{
 "cells": [
  {
   "cell_type": "code",
   "execution_count": 1,
   "metadata": {},
   "outputs": [],
   "source": [
    "import os\n",
    "import subprocess"
   ]
  },
  {
   "cell_type": "code",
   "execution_count": 2,
   "metadata": {},
   "outputs": [
    {
     "name": "stdout",
     "output_type": "stream",
     "text": [
      "Too Many Requests\n"
     ]
    },
    {
     "data": {
      "text/plain": [
       "CompletedProcess(args=['./result.exe', 'https://query1.finance.yahoo.com/v8/finance/chart/%5EGSPC?events=capitalGain%7Cdiv%7Csplit&formatted=true&includeAdjustedClose=true&interval=1mo&period1=1706562231&period2=1738184631&symbol=%5EGSPC&userYfid=true&lang=en-GB&region=GB'], returncode=0)"
      ]
     },
     "execution_count": 2,
     "metadata": {},
     "output_type": "execute_result"
    }
   ],
   "source": [
    "command = [\"./result.exe\",\n",
    "\"https://query1.finance.yahoo.com/v8/finance/chart/%5EGSPC?events=capitalGain%7Cdiv%7Csplit&formatted=true&includeAdjustedClose=true&interval=1mo&period1=1706562231&period2=1738184631&symbol=%5EGSPC&userYfid=true&lang=en-GB&region=GB\"]\n",
    "subprocess.run(command, subprocess.PIPE)"
   ]
  },
  {
   "cell_type": "code",
   "execution_count": null,
   "metadata": {},
   "outputs": [],
   "source": []
  }
 ],
 "metadata": {
  "kernelspec": {
   "display_name": "Python 3",
   "language": "python",
   "name": "python3"
  },
  "language_info": {
   "codemirror_mode": {
    "name": "ipython",
    "version": 3
   },
   "file_extension": ".py",
   "mimetype": "text/x-python",
   "name": "python",
   "nbconvert_exporter": "python",
   "pygments_lexer": "ipython3",
   "version": "3.12.0"
  }
 },
 "nbformat": 4,
 "nbformat_minor": 2
}
